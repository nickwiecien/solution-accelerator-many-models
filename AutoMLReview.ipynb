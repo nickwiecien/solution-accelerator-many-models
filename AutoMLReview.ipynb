{
 "metadata": {
  "language_info": {
   "codemirror_mode": {
    "name": "ipython",
    "version": 3
   },
   "file_extension": ".py",
   "mimetype": "text/x-python",
   "name": "python",
   "nbconvert_exporter": "python",
   "pygments_lexer": "ipython3",
   "version": "3.7.7-final"
  },
  "orig_nbformat": 2,
  "kernelspec": {
   "name": "python3",
   "display_name": "Python 3.7.7 64-bit ('env')",
   "metadata": {
    "interpreter": {
     "hash": "95f9629f92a95742dc82007aa5e69ca3b1b3071947132bf3b43a4c7c35cf64f4"
    }
   }
  }
 },
 "nbformat": 4,
 "nbformat_minor": 2,
 "cells": [
  {
   "cell_type": "code",
   "execution_count": 4,
   "metadata": {},
   "outputs": [
    {
     "output_type": "execute_result",
     "data": {
      "text/plain": [
       "(array([10644.69761348, 10643.7252854 ]),\n",
       "                               Advert  Price  Revenue  Advert_WASNULL  \\\n",
       " WeekStarting Store Brand                                               \n",
       " 1992-10-22   1000  dominicks    1.00   2.35 25147.00               0   \n",
       " 1992-10-29   1000  dominicks    1.00   2.35 25147.00               0   \n",
       " \n",
       "                               Price_WASNULL  Revenue_WASNULL  grain_Store  \\\n",
       " WeekStarting Store Brand                                                    \n",
       " 1992-10-22   1000  dominicks              0                0            0   \n",
       " 1992-10-29   1000  dominicks              0                0            0   \n",
       " \n",
       "                               grain_Brand  _automl_year  _automl_half  \\\n",
       " WeekStarting Store Brand                                                \n",
       " 1992-10-22   1000  dominicks            0          1992             2   \n",
       " 1992-10-29   1000  dominicks            0          1992             2   \n",
       " \n",
       "                               _automl_quarter  _automl_month  _automl_day  \\\n",
       " WeekStarting Store Brand                                                    \n",
       " 1992-10-22   1000  dominicks                4             10           22   \n",
       " 1992-10-29   1000  dominicks                4             10           29   \n",
       " \n",
       "                               _automl_qday  _automl_target_col  \n",
       " WeekStarting Store Brand                                        \n",
       " 1992-10-22   1000  dominicks            22            10644.70  \n",
       " 1992-10-29   1000  dominicks            29            10643.73  )"
      ]
     },
     "metadata": {},
     "execution_count": 4
    }
   ],
   "source": [
    "#Connect to AML Workspace\n",
    "from azureml.core import Workspace\n",
    "\n",
    "ws = Workspace.from_config()\n",
    "\n",
    "#Download output files from AutoML Run to automl_run directory\n",
    "from azureml.core import Run, Experiment\n",
    "\n",
    "automl_run = ws.get_run('')\n",
    "automl_run.download_files('outputs', output_directory='automl_outputs', append_prefix=False)\n",
    "\n",
    "#Load model - Hint: the downloaded outputs contain a env_dependencies.json file with a package list\n",
    "from sklearn.externals import joblib\n",
    "\n",
    "model = joblib.load('automl_outputs/model.pkl')\n",
    "\n",
    "#Prepare sample (or real) data for forecasting\n",
    "#Hint: The scoring_file_... contains sample input data\n",
    "import pandas as pd\n",
    "input_sample = pd.DataFrame([{\"WeekStarting\": \"1992-10-22\", \"Store\": 1000, \"Brand\": \"dominicks\", \"Advert\": 1, \"Price\": 2.35, \"Revenue\": 25147}, {\"WeekStarting\": \"1992-10-29\", \"Store\": 1000, \"Brand\": \"dominicks\", \"Advert\": 1, \"Price\": 2.35, \"Revenue\": 25147}])\n",
    "input_sample\n",
    "\n",
    "model.forecast(input_sample)"
   ]
  }
 ]
}